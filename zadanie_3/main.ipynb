{
 "cells": [
  {
   "cell_type": "code",
   "execution_count": 78,
   "metadata": {},
   "outputs": [],
   "source": [
    "import torchvision.transforms as transforms\n",
    "from torchvision.datasets import ImageFolder\n",
    "import torchvision\n",
    "\n",
    "from torch.utils.data import DataLoader, Subset, SubsetRandomSampler, Dataset\n",
    "import torch.nn.functional as F\n",
    "import torch.nn as nn\n",
    "import torch\n",
    "\n",
    "import matplotlib.pyplot as plt\n",
    "import numpy as np\n"
   ]
  },
  {
   "cell_type": "code",
   "execution_count": 79,
   "metadata": {},
   "outputs": [],
   "source": [
    "train_transform = transforms.Compose(\n",
    "    [\n",
    "         transforms.RandomVerticalFlip(0.5)\n",
    "        ,transforms.RandomRotation(24)\n",
    "        ,transforms.ToTensor()\n",
    "        ,transforms.Normalize((0.5, 0.5, 0.5), (0.5, 0.5, 0.5))\n",
    "    ] \n",
    ")\n"
   ]
  },
  {
   "cell_type": "code",
   "execution_count": 80,
   "metadata": {},
   "outputs": [],
   "source": [
    "trainset = ImageFolder(\"data/train/\", transform=train_transform)\n"
   ]
  },
  {
   "cell_type": "code",
   "execution_count": 81,
   "metadata": {},
   "outputs": [
    {
     "name": "stdout",
     "output_type": "stream",
     "text": [
      "50\n",
      "['acoustic', 'antenna', 'bacteria', 'battery', 'bean', 'beetle', 'bicycle', 'birch', 'bird', 'bomb', 'bread', 'bridge', 'camera', 'carbon', 'cat', 'corn', 'crab', 'crocodilian', 'echinoderm', 'egg', 'elephant', 'fish', 'flower', 'frog', 'fungus', 'gauge', 'hammer', 'icecream', 'kangaroo', 'memorial', 'monkey', 'motor', 'nest', 'palm', 'pizza', 'pot', 'printer', 'saw', 'snake', 'spice', 'spider', 'spoon', 'squash', 'swine', 'tea', 'tomato', 'towel', 'truck', 'turtle', 'worm']\n"
     ]
    }
   ],
   "source": [
    "classes = []\n",
    "\n",
    "for image in trainset.imgs:\n",
    "    the_class = image[0].split(\"/\")[2].split(\"\\\\\")[0]\n",
    "    if the_class not in classes:\n",
    "        classes.append(the_class)\n",
    "\n",
    "print(len(classes))\n",
    "print(classes)\n"
   ]
  },
  {
   "cell_type": "code",
   "execution_count": 82,
   "metadata": {},
   "outputs": [],
   "source": [
    "from random import shuffle\n",
    "\n",
    "all_data = list(trainset)\n",
    "shuffle(all_data)\n",
    "\n",
    "trainset = all_data\n"
   ]
  },
  {
   "cell_type": "code",
   "execution_count": 83,
   "metadata": {},
   "outputs": [],
   "source": [
    "n = len(trainset)\n",
    "n_test = int(0.25 * len(trainset))\n",
    "validset = Subset(trainset, range(n_test))\n",
    "trainset = Subset(trainset, range(n_test, n))\n",
    "\n",
    "BATCH_SIZE = 32\n",
    "trainloader = DataLoader(trainset, batch_size=BATCH_SIZE,\n",
    "                                          shuffle=True, num_workers=2)\n",
    "\n",
    "testloader = DataLoader(validset, batch_size=BATCH_SIZE,\n",
    "                                          shuffle=True, num_workers=2)\n"
   ]
  },
  {
   "cell_type": "code",
   "execution_count": 84,
   "metadata": {},
   "outputs": [
    {
     "data": {
      "text/plain": [
       "50"
      ]
     },
     "execution_count": 84,
     "metadata": {},
     "output_type": "execute_result"
    }
   ],
   "source": [
    "_classes = list()\n",
    "\n",
    "for cls in range(len(validset)):\n",
    "    _classes.append(classes[validset[cls][1]])\n",
    "\n",
    "len(set(_classes)) \n"
   ]
  },
  {
   "cell_type": "code",
   "execution_count": 85,
   "metadata": {},
   "outputs": [],
   "source": [
    "images, labels = next(iter(trainloader))\n"
   ]
  },
  {
   "cell_type": "code",
   "execution_count": 86,
   "metadata": {},
   "outputs": [
    {
     "name": "stderr",
     "output_type": "stream",
     "text": [
      "Clipping input data to the valid range for imshow with RGB data ([0..1] for floats or [0..255] for integers).\n"
     ]
    },
    {
     "name": "stdout",
     "output_type": "stream",
     "text": [
      "antenna\n"
     ]
    },
    {
     "data": {
      "text/plain": [
       "<matplotlib.image.AxesImage at 0x1d81802baf0>"
      ]
     },
     "execution_count": 86,
     "metadata": {},
     "output_type": "execute_result"
    },
    {
     "data": {
      "image/png": "[encoded data removed]",
      "text/plain": [
       "<Figure size 432x288 with 1 Axes>"
      ]
     },
     "metadata": {
      "needs_background": "light"
     },
     "output_type": "display_data"
    }
   ],
   "source": [
    "print(classes[labels[1]])\n",
    "plt.imshow(np.transpose(images[1].numpy(), (1, 2, 0)))\n"
   ]
  },
  {
   "cell_type": "code",
   "execution_count": 87,
   "metadata": {},
   "outputs": [
    {
     "data": {
      "text/plain": [
       "BestNetEver(\n",
       "  (network): Sequential(\n",
       "    (0): Conv2d(3, 32, kernel_size=(3, 3), stride=(1, 1), padding=(1, 1))\n",
       "    (1): ReLU()\n",
       "    (2): Conv2d(32, 64, kernel_size=(3, 3), stride=(1, 1), padding=(1, 1))\n",
       "    (3): ReLU()\n",
       "    (4): MaxPool2d(kernel_size=2, stride=2, padding=0, dilation=1, ceil_mode=False)\n",
       "    (5): Conv2d(64, 128, kernel_size=(3, 3), stride=(1, 1), padding=(1, 1))\n",
       "    (6): ReLU()\n",
       "    (7): Conv2d(128, 128, kernel_size=(3, 3), stride=(1, 1), padding=(1, 1))\n",
       "    (8): ReLU()\n",
       "    (9): MaxPool2d(kernel_size=2, stride=2, padding=0, dilation=1, ceil_mode=False)\n",
       "    (10): Conv2d(128, 256, kernel_size=(3, 3), stride=(1, 1), padding=(1, 1))\n",
       "    (11): ReLU()\n",
       "    (12): Conv2d(256, 256, kernel_size=(3, 3), stride=(1, 1), padding=(1, 1))\n",
       "    (13): ReLU()\n",
       "    (14): MaxPool2d(kernel_size=2, stride=2, padding=0, dilation=1, ceil_mode=False)\n",
       "    (15): Flatten(start_dim=1, end_dim=-1)\n",
       "    (16): Linear(in_features=16384, out_features=1024, bias=True)\n",
       "    (17): ReLU()\n",
       "    (18): Linear(in_features=1024, out_features=512, bias=True)\n",
       "    (19): ReLU()\n",
       "    (20): Linear(in_features=512, out_features=50, bias=True)\n",
       "  )\n",
       ")"
      ]
     },
     "execution_count": 87,
     "metadata": {},
     "output_type": "execute_result"
    }
   ],
   "source": [
    "class BestNetEver(nn.Module):\n",
    "    def __init__(self):\n",
    "        super().__init__()\n",
    "        self.network = nn.Sequential(\n",
    "            \n",
    "            nn.Conv2d(3, 32, kernel_size=3, padding=1),\n",
    "            nn.ReLU(),\n",
    "            nn.Conv2d(32, 64, kernel_size=3, stride=1, padding=1),\n",
    "            nn.ReLU(),\n",
    "            nn.MaxPool2d(2, 2),\n",
    "        \n",
    "            nn.Conv2d(64, 128, kernel_size=3, stride=1, padding=1),\n",
    "            nn.ReLU(),\n",
    "            nn.Conv2d(128, 128, kernel_size=3, stride=1, padding=1),\n",
    "            nn.ReLU(),\n",
    "            nn.MaxPool2d(2, 2),\n",
    "            \n",
    "            nn.Conv2d(128, 256, kernel_size=3, stride=1, padding=1),\n",
    "            nn.ReLU(),\n",
    "            nn.Conv2d(256, 256, kernel_size=3, stride=1, padding=1),\n",
    "            nn.ReLU(),\n",
    "            nn.MaxPool2d(2, 2),\n",
    "            \n",
    "            nn.Flatten(),\n",
    "            nn.Linear(16384, 1024),\n",
    "            nn.ReLU(),\n",
    "            nn.Linear(1024, 512),\n",
    "            nn.ReLU(),\n",
    "            nn.Linear(512, 50)\n",
    "        )\n",
    "    \n",
    "    def forward(self, x):\n",
    "        return self.network(x)\n",
    "\n",
    "\n",
    "net = BestNetEver()\n",
    "net\n"
   ]
  },
  {
   "cell_type": "code",
   "execution_count": 88,
   "metadata": {},
   "outputs": [],
   "source": [
    "import torch.optim as optim\n",
    "\n",
    "criterion = nn.CrossEntropyLoss()\n",
    "optimizer = optim.Adam(net.parameters(), lr=0.001)\n"
   ]
  },
  {
   "cell_type": "code",
   "execution_count": 89,
   "metadata": {},
   "outputs": [],
   "source": [
    "epochs = 10\n"
   ]
  },
  {
   "cell_type": "code",
   "execution_count": 90,
   "metadata": {},
   "outputs": [
    {
     "data": {
      "text/plain": [
       "66009"
      ]
     },
     "execution_count": 90,
     "metadata": {},
     "output_type": "execute_result"
    }
   ],
   "source": [
    "len(trainset)\n"
   ]
  },
  {
   "cell_type": "code",
   "execution_count": 91,
   "metadata": {},
   "outputs": [
    {
     "name": "stdout",
     "output_type": "stream",
     "text": [
      "[1/10] loss: 0.10506939175731801\n",
      "[2/10] loss: 0.09015502571241533\n",
      "[3/10] loss: 0.08113946520468975\n",
      "[4/10] loss: 0.07409880079078325\n",
      "[5/10] loss: 0.06709728273799061\n",
      "[6/10] loss: 0.059192842604577287\n",
      "[7/10] loss: 0.04971425832884568\n",
      "[8/10] loss: 0.04026810674638174\n",
      "[9/10] loss: 0.031765536789687576\n",
      "[10/10] loss: 0.024823224999264638\n",
      "Finished Training\n"
     ]
    }
   ],
   "source": [
    "for epoch in range(epochs):  # loop over the dataset multiple times\n",
    "\n",
    "    running_loss = 0.0\n",
    "    for i, data in enumerate(trainloader, 0):\n",
    "        # get the inputs; data is a list of [inputs, labels]\n",
    "        inputs, labels = data\n",
    "\n",
    "        # zero the parameter gradients\n",
    "        optimizer.zero_grad()\n",
    "\n",
    "        # forward + backward + optimize\n",
    "        outputs = net(inputs)\n",
    "        loss = criterion(outputs, labels)\n",
    "        loss.backward()\n",
    "        optimizer.step()\n",
    "\n",
    "        # print statistics\n",
    "        running_loss += loss.item()\n",
    "\n",
    "    print(f\"[{epoch+1}/{epochs}] loss: {running_loss/len(trainset)}\")\n",
    "    running_loss = 0.0\n",
    "    torch.save(net.state_dict(), f'./supercnn{epoch+1}.pt')\n",
    "\n",
    "print('Finished Training')\n",
    "\n"
   ]
  },
  {
   "cell_type": "code",
   "execution_count": 92,
   "metadata": {},
   "outputs": [],
   "source": [
    "torch.save(net.state_dict(), './supercnn.pt')"
   ]
  },
  {
   "cell_type": "code",
   "execution_count": 131,
   "metadata": {},
   "outputs": [
    {
     "name": "stdout",
     "output_type": "stream",
     "text": [
      "Accuracy for class acoustic is: 16.375545851528383\n",
      "Accuracy for class antenna is: 18.609865470852018\n",
      "Accuracy for class bacteria is: 28.935185185185187\n",
      "Accuracy for class battery is: 19.07894736842105\n",
      "Accuracy for class bean is: 27.130044843049326\n",
      "Accuracy for class beetle is: 40.52287581699346\n",
      "Accuracy for class bicycle is: 30.021598272138228\n",
      "Accuracy for class birch is: 17.937219730941703\n",
      "Accuracy for class bird is: 15.49586776859504\n",
      "Accuracy for class bomb is: 32.04545454545455\n",
      "Accuracy for class bread is: 24.56140350877193\n",
      "Accuracy for class bridge is: 24.08256880733945\n",
      "Accuracy for class camera is: 44.27312775330397\n",
      "Accuracy for class carbon is: 11.206896551724139\n",
      "Accuracy for class cat is: 19.517543859649123\n",
      "Accuracy for class corn is: 31.46551724137931\n",
      "Accuracy for class crab is: 11.136890951276103\n",
      "Accuracy for class crocodilian is: 23.543123543123542\n",
      "Accuracy for class echinoderm is: 18.973214285714285\n",
      "Accuracy for class egg is: 27.19298245614035\n",
      "Accuracy for class elephant is: 23.92241379310345\n",
      "Accuracy for class fish is: 28.42105263157895\n",
      "Accuracy for class flower is: 61.17381489841986\n",
      "Accuracy for class frog is: 20.217391304347824\n",
      "Accuracy for class fungus is: 52.455357142857146\n",
      "Accuracy for class gauge is: 24.71395881006865\n",
      "Accuracy for class hammer is: 60.270880361173816\n",
      "Accuracy for class icecream is: 19.863013698630137\n",
      "Accuracy for class kangaroo is: 21.266968325791854\n",
      "Accuracy for class memorial is: 31.304347826086957\n",
      "Accuracy for class monkey is: 28.24074074074074\n",
      "Accuracy for class motor is: 25.991189427312776\n",
      "Accuracy for class nest is: 22.14611872146119\n",
      "Accuracy for class palm is: 40.31890660592255\n",
      "Accuracy for class pizza is: 51.59914712153518\n",
      "Accuracy for class pot is: 18.30065359477124\n",
      "Accuracy for class printer is: 37.81902552204176\n",
      "Accuracy for class saw is: 46.92144373673036\n",
      "Accuracy for class snake is: 11.963882618510159\n",
      "Accuracy for class spice is: 26.806526806526808\n",
      "Accuracy for class spider is: 32.25108225108225\n",
      "Accuracy for class spoon is: 50.88495575221239\n",
      "Accuracy for class squash is: 14.666666666666666\n",
      "Accuracy for class swine is: 23.981900452488688\n",
      "Accuracy for class tea is: 16.666666666666668\n",
      "Accuracy for class tomato is: 28.15126050420168\n",
      "Accuracy for class towel is: 24.228028503562946\n",
      "Accuracy for class truck is: 41.043083900226755\n",
      "Accuracy for class turtle is: 29.700854700854702\n",
      "Accuracy for class worm is: 15.690376569037657\n",
      "\n",
      "Total accuracy: 28.261751669323854\n"
     ]
    }
   ],
   "source": [
    "correct_pred = {classname: 0 for classname in classes}\n",
    "total_pred = {classname: 0 for classname in classes}\n",
    "\n",
    "with torch.no_grad():\n",
    "    for data in testloader:\n",
    "        images, labels = data\n",
    "        outputs = net(images)   \n",
    "        _, predictions = torch.max(outputs, 1)\n",
    "\n",
    "        # collect the correct predictions for each class\n",
    "        for label, prediction in zip(labels, predictions):\n",
    "            if label == prediction:\n",
    "                correct_pred[classes[label]] += 1\n",
    "            total_pred[classes[label]] += 1\n",
    "\n",
    "\n",
    "total_accuracy = 0\n",
    "# print accuracy for each class\n",
    "for classname, correct_count in correct_pred.items():\n",
    "    accuracy = 100 * float(correct_count) / total_pred[classname]\n",
    "    print(f\"Accuracy for class {classname} is: {accuracy}\")\n",
    "    total_accuracy += accuracy\n",
    "\n",
    "print('\\nTotal accuracy:', total_accuracy/50)\n",
    "\n"
   ]
  },
  {
   "cell_type": "code",
   "execution_count": 98,
   "metadata": {},
   "outputs": [
    {
     "data": {
      "text/plain": [
       "torch.Size([3, 64, 64])"
      ]
     },
     "execution_count": 98,
     "metadata": {},
     "output_type": "execute_result"
    }
   ],
   "source": [
    "import os\n",
    "\n",
    "names = os.listdir(\"data/test_all/\")\n",
    "img_loc = os.path.join(\"data/test_all/\", names[0])\n",
    "torchvision.io.read_image(img_loc).shape\n"
   ]
  },
  {
   "cell_type": "code",
   "execution_count": 99,
   "metadata": {},
   "outputs": [],
   "source": [
    "images = []\n",
    "with torch.no_grad():\n",
    "    for name in os.listdir(\"data/test_all/\"):\n",
    "        img_loc = os.path.join(\"data/test_all/\", name)\n",
    "        image = torchvision.io.read_image(img_loc).float()\n",
    "        if image.shape[0] != 3:\n",
    "            image = image.expand(3, 64, 64)\n",
    "        images.append(image)\n",
    "\n"
   ]
  },
  {
   "cell_type": "code",
   "execution_count": 96,
   "metadata": {},
   "outputs": [],
   "source": [
    "from torch.utils import data\n",
    "images = torch.stack(images) \n",
    "\n",
    "test_dataset = data.TensorDataset(images)\n",
    "\n",
    "test_dataset_loader = data.DataLoader(test_dataset, batch_size=32)\n"
   ]
  },
  {
   "cell_type": "code",
   "execution_count": 147,
   "metadata": {},
   "outputs": [],
   "source": [
    "import pandas as pd\n",
    "\n",
    "all_preds = torch.tensor([])\n",
    "\n",
    "with torch.no_grad():\n",
    "    for data in test_dataset_loader:\n",
    "        images = data[0]\n",
    "        outputs = net(images)   \n",
    "        _, predictions = torch.max(outputs, 1)\n",
    "\n",
    "        all_preds = torch.cat((all_preds, predictions))\n",
    "\n",
    "all_preds = pd.Series(all_preds)\n",
    "all_names = pd.Series(os.listdir(\"data/test_all/\"))\n",
    "\n",
    "data = [all_names, all_preds]\n",
    "results = pd.DataFrame(data=data)\n",
    "\n",
    "results.T.to_csv('results.csv', index=False, header=False)\n"
   ]
  }
 ],
 "metadata": {
  "kernelspec": {
   "display_name": "Python 3.9.9 64-bit",
   "language": "python",
   "name": "python3"
  },
  "language_info": {
   "codemirror_mode": {
    "name": "ipython",
    "version": 3
   },
   "file_extension": ".py",
   "mimetype": "text/x-python",
   "name": "python",
   "nbconvert_exporter": "python",
   "pygments_lexer": "ipython3",
   "version": "3.9.9"
  },
  "orig_nbformat": 4,
  "vscode": {
   "interpreter": {
    "hash": "11938c6bc6919ae2720b4d5011047913343b08a43b18698fd82dedb0d4417594"
   }
  }
 },
 "nbformat": 4,
 "nbformat_minor": 2
}
