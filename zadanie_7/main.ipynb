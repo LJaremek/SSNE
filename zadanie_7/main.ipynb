{
 "cells": [
  {
   "cell_type": "code",
   "execution_count": 1,
   "metadata": {},
   "outputs": [
    {
     "name": "stderr",
     "output_type": "stream",
     "text": [
      "/home/nolok/anaconda3/envs/ssne/lib/python3.10/site-packages/tqdm/auto.py:22: TqdmWarning: IProgress not found. Please update jupyter and ipywidgets. See https://ipywidgets.readthedocs.io/en/stable/user_install.html\n",
      "  from .autonotebook import tqdm as notebook_tqdm\n"
     ]
    }
   ],
   "source": [
    "import re\n",
    "\n",
    "import numpy as np\n",
    "import pandas as pd\n",
    "\n",
    "import torch\n",
    "import torch.nn as nn\n",
    "from torch.utils.data import DataLoader, Dataset\n",
    "\n",
    "from sklearn.utils import compute_class_weight\n",
    "from sklearn.model_selection import train_test_split\n",
    "from sklearn.metrics import classification_report\n",
    "\n",
    "import imblearn\n",
    "from transformers import AutoTokenizer, AutoModelForSequenceClassification\n",
    "from datasets import load_metric\n"
   ]
  },
  {
   "cell_type": "code",
   "execution_count": null,
   "metadata": {},
   "outputs": [],
   "source": [
    "torch.cuda.empty_cache()\n"
   ]
  },
  {
   "cell_type": "code",
   "execution_count": null,
   "metadata": {},
   "outputs": [],
   "source": [
    "device = torch.device('cuda') if torch.cuda.is_available() else torch.device('cpu')\n",
    "device"
   ]
  },
  {
   "cell_type": "code",
   "execution_count": null,
   "metadata": {},
   "outputs": [],
   "source": [
    "train_df = pd.read_csv('./train_data.csv')\n",
    "train_df.head()\n"
   ]
  },
  {
   "cell_type": "code",
   "execution_count": null,
   "metadata": {},
   "outputs": [],
   "source": [
    "test_df = pd.read_csv(\n",
    "    \"./test_data.csv\",\n",
    "    header=None\n",
    "    ).rename(columns={0: \"review\"})\n",
    "test_df.head()\n"
   ]
  },
  {
   "cell_type": "code",
   "execution_count": null,
   "metadata": {},
   "outputs": [],
   "source": [
    "train_df.iloc[0].review\n"
   ]
  },
  {
   "cell_type": "code",
   "execution_count": null,
   "metadata": {},
   "outputs": [],
   "source": [
    "def clean_data(input_text: str) -> str:\n",
    "    pattern = r'[,„•’\\\"-]'\n",
    "    text =  re.sub(pattern, ' ', input_text).strip()\n",
    "    pattern = r'^\\s*|\\s\\s*'\n",
    "    text =  re.sub(pattern, ' ', text).strip().replace(r'\\n', ' ')\n",
    "    return text\n"
   ]
  },
  {
   "cell_type": "code",
   "execution_count": null,
   "metadata": {},
   "outputs": [],
   "source": [
    "def create_tokens(data: list[str], tokenizer: AutoTokenizer) -> list[str]:\n",
    "    return tokenizer(data, padding=True, truncation=True)\n"
   ]
  },
  {
   "cell_type": "code",
   "execution_count": null,
   "metadata": {},
   "outputs": [],
   "source": [
    "train_df.review = train_df.review.apply(clean_data)\n",
    "test_df.review = test_df.review.apply(clean_data)\n"
   ]
  },
  {
   "cell_type": "code",
   "execution_count": null,
   "metadata": {},
   "outputs": [],
   "source": [
    "model_name = \"allegro/herbert-base-cased\"  # \"allegro/herbert-large-cased\"\n",
    "tokenizer = AutoTokenizer.from_pretrained(model_name)\n",
    "tokenizer\n"
   ]
  },
  {
   "cell_type": "code",
   "execution_count": null,
   "metadata": {},
   "outputs": [],
   "source": [
    "input_data = train_df[\"review\"].values\n",
    "input_targets = train_df[\"rating\"].values\n"
   ]
  },
  {
   "cell_type": "code",
   "execution_count": null,
   "metadata": {},
   "outputs": [],
   "source": [
    "oversampler = imblearn.over_sampling.RandomOverSampler()\n",
    "\n",
    "input_data_over, input_targets_over = oversampler.fit_resample(\n",
    "    input_data.reshape(-1,1),\n",
    "    input_targets\n",
    ")\n",
    "\n",
    "train_data, val_data, train_targets, val_targets = train_test_split(\n",
    "    input_data_over,\n",
    "    input_targets_over,\n",
    "    test_size=0.20\n",
    ")\n"
   ]
  },
  {
   "cell_type": "code",
   "execution_count": null,
   "metadata": {},
   "outputs": [],
   "source": [
    "train_tokenized = create_tokens(list(train_data.squeeze()), tokenizer)\n",
    "val_tokenized = create_tokens(list(val_data.squeeze()), tokenizer)\n"
   ]
  },
  {
   "cell_type": "code",
   "execution_count": null,
   "metadata": {},
   "outputs": [],
   "source": [
    "class ReviewDataset(Dataset):\n",
    "    def __init__(self, tokenized_data, targets):\n",
    "        self.tokenized_data = tokenized_data\n",
    "        self.targets = targets\n",
    "\n",
    "    def __getitem__(self, idx):\n",
    "        temp = {key: torch.tensor(val[idx]) for key, val in self.tokenized_data.items()}\n",
    "        temp[\"labels\"] = torch.tensor(self.targets[idx])\n",
    "        return temp\n",
    "\n",
    "    def __len__(self):\n",
    "        return len(self.targets)\n"
   ]
  },
  {
   "cell_type": "code",
   "execution_count": null,
   "metadata": {},
   "outputs": [],
   "source": [
    "train_dataset = ReviewDataset(tokenized_data=train_tokenized, targets=train_targets)\n",
    "val_dataset = ReviewDataset(tokenized_data=val_tokenized, targets=val_targets)\n",
    "\n",
    "train_loader = DataLoader(train_dataset, batch_size=1, shuffle=True)\n",
    "val_loader = DataLoader(val_dataset, batch_size=1, shuffle=True)\n",
    "\n"
   ]
  },
  {
   "cell_type": "code",
   "execution_count": null,
   "metadata": {},
   "outputs": [],
   "source": [
    "model = AutoModelForSequenceClassification.from_pretrained(\n",
    "    model_name,\n",
    "    num_labels=5\n",
    ").to(device)\n"
   ]
  },
  {
   "cell_type": "code",
   "execution_count": null,
   "metadata": {},
   "outputs": [],
   "source": [
    "y = np.array(train_dataset[:][\"labels\"])\n",
    "class_weights=compute_class_weight(\n",
    "    \"balanced\",\n",
    "    classes=np.unique(y),\n",
    "    y=y\n",
    ")\n",
    "\n",
    "class_weights=torch.tensor(class_weights, dtype=torch.float)\n"
   ]
  },
  {
   "cell_type": "code",
   "execution_count": null,
   "metadata": {},
   "outputs": [],
   "source": [
    "class_weights"
   ]
  },
  {
   "cell_type": "code",
   "execution_count": null,
   "metadata": {},
   "outputs": [],
   "source": [
    "optim = torch.optim.Adam(\n",
    "    model.parameters(),\n",
    "    lr=4e-4\n",
    ")\n",
    "\n",
    "loss_fun = nn.CrossEntropyLoss(\n",
    "    weight=class_weights.to(device))\n",
    "\n",
    "scheduler = torch.optim.lr_scheduler.ExponentialLR(\n",
    "    optimizer=optim,\n",
    "    gamma=0.96\n",
    ")\n"
   ]
  },
  {
   "cell_type": "code",
   "execution_count": null,
   "metadata": {},
   "outputs": [],
   "source": [
    "N_EPOCH = 10"
   ]
  },
  {
   "cell_type": "code",
   "execution_count": null,
   "metadata": {},
   "outputs": [],
   "source": [
    "model.train()\n",
    "\n",
    "for epoch in range(N_EPOCH):\n",
    "    epoch_loss = []\n",
    "    for batch in train_loader:\n",
    "        optim.zero_grad()\n",
    "        inputs = batch[\"input_ids\"].to(device)\n",
    "        attention_mask = batch[\"attention_mask\"].to(device)\n",
    "        targets = batch[\"labels\"].to(device)\n",
    "        outputs = model(inputs, attention_mask=attention_mask, labels=targets)\n",
    "        loss = loss_fun(outputs.logits, targets)\n",
    "        loss.backward()\n",
    "        optim.step()\n",
    "        epoch_loss.append(loss.item())\n",
    "\n",
    "    loss_mean = np.array(epoch_loss).mean()\n",
    "    print(\"Loss:\", loss_mean)\n",
    "    scheduler.step()\n"
   ]
  }
 ],
 "metadata": {
  "kernelspec": {
   "display_name": "ssne",
   "language": "python",
   "name": "python3"
  },
  "language_info": {
   "codemirror_mode": {
    "name": "ipython",
    "version": 3
   },
   "file_extension": ".py",
   "mimetype": "text/x-python",
   "name": "python",
   "nbconvert_exporter": "python",
   "pygments_lexer": "ipython3",
   "version": "3.10.8"
  },
  "orig_nbformat": 4,
  "vscode": {
   "interpreter": {
    "hash": "fefba7ab84d2de9e566d8fee028ec3dc1e3f21c7f74d680889548c1a33856853"
   }
  }
 },
 "nbformat": 4,
 "nbformat_minor": 2
}
