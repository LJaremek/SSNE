{
  "cells": [
    {
      "cell_type": "code",
      "execution_count": 73,
      "metadata": {
        "id": "0wPwnCj42U0L"
      },
      "outputs": [],
      "source": [
        "import pickle\n",
        "\n",
        "from torch.nn.utils.rnn import pad_sequence, pack_padded_sequence, pad_packed_sequence\n",
        "from torch.utils.data import DataLoader\n",
        "from torch.utils.data import Dataset\n",
        "import torch\n"
      ]
    },
    {
      "cell_type": "code",
      "execution_count": 74,
      "metadata": {
        "id": "EIs7pLF5Evaj"
      },
      "outputs": [],
      "source": [
        "with open(\"train.pkl\", \"rb\") as f:\n",
        "    data_train = pickle.load(f)\n",
        "\n",
        "with open(\"test_no_target.pkl\", \"rb\") as f:\n",
        "    data_test = pickle.load(f)\n"
      ]
    },
    {
      "cell_type": "code",
      "execution_count": 75,
      "metadata": {
        "id": "6nO8QTzcE04a"
      },
      "outputs": [],
      "source": [
        "X_train = []\n",
        "y_train = []\n",
        "X_test = []\n",
        "\n",
        "for data, label in data_train:\n",
        "    X_train.append(torch.Tensor(data))\n",
        "    y_train.append(torch.Tensor(label))\n",
        "\n",
        "for data in data_test:\n",
        "    X_test.append(torch.Tensor(data))\n"
      ]
    },
    {
      "cell_type": "code",
      "execution_count": 76,
      "metadata": {
        "id": "7Yt5cmilHkej"
      },
      "outputs": [],
      "source": [
        "train_max_len = max([len(sequence) for sequence in X_train])\n",
        "test_max_len = max([len(sequence) for sequence in X_test])\n",
        "max_len = max([train_max_len, test_max_len])\n"
      ]
    },
    {
      "cell_type": "code",
      "execution_count": 77,
      "metadata": {
        "id": "JJS9xfFgHktZ"
      },
      "outputs": [],
      "source": [
        "def pad_collate(batch, pad_value=0):\n",
        "    \"\"\"\n",
        "    batch: list[tuple[torch.Tensor]]\n",
        "    \"\"\"\n",
        "    xx, yy = zip(*batch)\n",
        "    x_lens = [len(x) for x in xx]\n",
        "    y_lens = [len(y) for y in yy]\n",
        "\n",
        "    xx_pad = pad_sequence(xx, batch_first=True, padding_value=pad_value)\n",
        "    yy_pad = pad_sequence(yy, batch_first=True, padding_value=pad_value)\n",
        "\n",
        "    return xx_pad, yy_pad, x_lens, y_lens\n"
      ]
    },
    {
      "cell_type": "code",
      "execution_count": 78,
      "metadata": {
        "id": "nGx-DZK-Jbz9"
      },
      "outputs": [],
      "source": [
        "class VariableLenDataset(Dataset):\n",
        "    def __init__(self, in_data, target):\n",
        "        self.data = [(x, y) for x, y in zip(in_data, target)]      \n",
        "\n",
        "    def __len__(self):\n",
        "        return len(self.data)\n",
        "\n",
        "    def __getitem__(self, idx):\n",
        "        in_data, target = self.data[idx]\n",
        "        return in_data, target\n"
      ]
    },
    {
      "cell_type": "code",
      "execution_count": 79,
      "metadata": {
        "id": "4PJPiAQvIxjD"
      },
      "outputs": [],
      "source": [
        "train_indices = int(len(data) * 0.7)\n",
        "\n",
        "train_set = VariableLenDataset(X_train[:train_indices], y_train[:train_indices])\n",
        "valid_set = VariableLenDataset(X_train[train_indices:], y_train[train_indices:])\n",
        "\n",
        "train_loader = DataLoader(train_set, batch_size=50, shuffle=True, collate_fn=pad_collate)\n",
        "valid_loader = DataLoader(valid_set, batch_size=50, shuffle=False, drop_last=False, collate_fn=pad_collate)\n"
      ]
    },
    {
      "cell_type": "code",
      "execution_count": 80,
      "metadata": {
        "id": "_QZmUOpQJ7-J"
      },
      "outputs": [],
      "source": [
        "a = next(iter(train_loader))\n"
      ]
    },
    {
      "cell_type": "code",
      "execution_count": 85,
      "metadata": {
        "colab": {
          "base_uri": "https://localhost:8080/"
        },
        "id": "F1riX3x7KC2q",
        "outputId": "7671e621-9c87-4377-c9e8-d2cef987d63d"
      },
      "outputs": [
        {
          "data": {
            "text/plain": [
              "(tensor([[144.,  72.,  13.,  ...,   0.,   0.,   0.],\n",
              "         [144., 132.,  12.,  ...,   0.,   0.,   0.],\n",
              "         [ 66., 100., 148.,  ...,   0.,   0.,   0.],\n",
              "         ...,\n",
              "         [144., 144., 145.,  ...,   0.,   0.,   0.],\n",
              "         [ -1.,  -1., 144.,  ...,  32.,  -1.,  -1.],\n",
              "         [ -1.,  -1.,  -1.,  ...,   0.,   0.,   0.]]),\n",
              " tensor([], size=(50, 0)),\n",
              " [176,\n",
              "  142,\n",
              "  592,\n",
              "  620,\n",
              "  342,\n",
              "  447,\n",
              "  352,\n",
              "  552,\n",
              "  244,\n",
              "  180,\n",
              "  86,\n",
              "  56,\n",
              "  360,\n",
              "  60,\n",
              "  44,\n",
              "  168,\n",
              "  44,\n",
              "  88,\n",
              "  51,\n",
              "  465,\n",
              "  388,\n",
              "  180,\n",
              "  48,\n",
              "  910,\n",
              "  300,\n",
              "  48,\n",
              "  672,\n",
              "  981,\n",
              "  480,\n",
              "  196,\n",
              "  714,\n",
              "  52,\n",
              "  172,\n",
              "  100,\n",
              "  548,\n",
              "  195,\n",
              "  12,\n",
              "  525,\n",
              "  240,\n",
              "  3206,\n",
              "  472,\n",
              "  932,\n",
              "  288,\n",
              "  124,\n",
              "  180,\n",
              "  312,\n",
              "  276,\n",
              "  52,\n",
              "  5322,\n",
              "  219],\n",
              " [0,\n",
              "  0,\n",
              "  0,\n",
              "  0,\n",
              "  0,\n",
              "  0,\n",
              "  0,\n",
              "  0,\n",
              "  0,\n",
              "  0,\n",
              "  0,\n",
              "  0,\n",
              "  0,\n",
              "  0,\n",
              "  0,\n",
              "  0,\n",
              "  0,\n",
              "  0,\n",
              "  0,\n",
              "  0,\n",
              "  0,\n",
              "  0,\n",
              "  0,\n",
              "  0,\n",
              "  0,\n",
              "  0,\n",
              "  0,\n",
              "  0,\n",
              "  0,\n",
              "  0,\n",
              "  0,\n",
              "  0,\n",
              "  0,\n",
              "  0,\n",
              "  0,\n",
              "  0,\n",
              "  0,\n",
              "  0,\n",
              "  0,\n",
              "  0,\n",
              "  0,\n",
              "  0,\n",
              "  0,\n",
              "  0,\n",
              "  0,\n",
              "  0,\n",
              "  0,\n",
              "  0,\n",
              "  0,\n",
              "  0])"
            ]
          },
          "execution_count": 85,
          "metadata": {},
          "output_type": "execute_result"
        }
      ],
      "source": [
        "a"
      ]
    },
    {
      "cell_type": "code",
      "execution_count": null,
      "metadata": {
        "id": "ZaxZ8W0-MWpu"
      },
      "outputs": [],
      "source": []
    }
  ],
  "metadata": {
    "colab": {
      "provenance": []
    },
    "gpuClass": "standard",
    "kernelspec": {
      "display_name": "Python 3.9.9 64-bit",
      "language": "python",
      "name": "python3"
    },
    "language_info": {
      "name": "python",
      "version": "3.9.9"
    },
    "vscode": {
      "interpreter": {
        "hash": "11938c6bc6919ae2720b4d5011047913343b08a43b18698fd82dedb0d4417594"
      }
    }
  },
  "nbformat": 4,
  "nbformat_minor": 0
}
